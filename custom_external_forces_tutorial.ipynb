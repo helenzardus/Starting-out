{
 "cells": [
  {
   "cell_type": "code",
   "execution_count": 1,
   "id": "4312949a-cfc6-4553-b520-f198b43974e6",
   "metadata": {},
   "outputs": [
    {
     "ename": "FileNotFoundError",
     "evalue": "[Errno 2] No such file or directory: 'ala_ala_ala.pdb'",
     "output_type": "error",
     "traceback": [
      "\u001b[0;31m---------------------------------------------------------------------------\u001b[0m",
      "\u001b[0;31mFileNotFoundError\u001b[0m                         Traceback (most recent call last)",
      "Cell \u001b[0;32mIn[1], line 5\u001b[0m\n\u001b[1;32m      2\u001b[0m \u001b[38;5;28;01mfrom\u001b[39;00m \u001b[38;5;21;01mopenmm\u001b[39;00m \u001b[38;5;28;01mimport\u001b[39;00m \u001b[38;5;241m*\u001b[39m\n\u001b[1;32m      3\u001b[0m \u001b[38;5;28;01mfrom\u001b[39;00m \u001b[38;5;21;01mopenmm\u001b[39;00m\u001b[38;5;21;01m.\u001b[39;00m\u001b[38;5;21;01munit\u001b[39;00m \u001b[38;5;28;01mimport\u001b[39;00m \u001b[38;5;241m*\u001b[39m\n\u001b[0;32m----> 5\u001b[0m pdb \u001b[38;5;241m=\u001b[39m PDBFile(\u001b[38;5;124m'\u001b[39m\u001b[38;5;124mala_ala_ala.pdb\u001b[39m\u001b[38;5;124m'\u001b[39m)\n\u001b[1;32m      6\u001b[0m forcefield \u001b[38;5;241m=\u001b[39m ForceField(\u001b[38;5;124m'\u001b[39m\u001b[38;5;124mamber14-all.xml\u001b[39m\u001b[38;5;124m'\u001b[39m)\n\u001b[1;32m      7\u001b[0m system \u001b[38;5;241m=\u001b[39m forcefield\u001b[38;5;241m.\u001b[39mcreateSystem(pdb\u001b[38;5;241m.\u001b[39mtopology, constraints\u001b[38;5;241m=\u001b[39mHBonds)\n",
      "File \u001b[0;32m/Applications/anaconda3/lib/python3.11/site-packages/openmm/app/pdbfile.py:93\u001b[0m, in \u001b[0;36mPDBFile.__init__\u001b[0;34m(self, file, extraParticleIdentifier)\u001b[0m\n\u001b[1;32m     91\u001b[0m own_handle \u001b[38;5;241m=\u001b[39m \u001b[38;5;28;01mFalse\u001b[39;00m\n\u001b[1;32m     92\u001b[0m \u001b[38;5;28;01mif\u001b[39;00m \u001b[38;5;28misinstance\u001b[39m(file, \u001b[38;5;28mstr\u001b[39m):\n\u001b[0;32m---> 93\u001b[0m     inputfile \u001b[38;5;241m=\u001b[39m \u001b[38;5;28mopen\u001b[39m(file)\n\u001b[1;32m     94\u001b[0m     own_handle \u001b[38;5;241m=\u001b[39m \u001b[38;5;28;01mTrue\u001b[39;00m\n\u001b[1;32m     95\u001b[0m pdb \u001b[38;5;241m=\u001b[39m PdbStructure(inputfile, load_all_models\u001b[38;5;241m=\u001b[39m\u001b[38;5;28;01mTrue\u001b[39;00m, extraParticleIdentifier\u001b[38;5;241m=\u001b[39mextraParticleIdentifier)\n",
      "\u001b[0;31mFileNotFoundError\u001b[0m: [Errno 2] No such file or directory: 'ala_ala_ala.pdb'"
     ]
    }
   ],
   "source": [
    "from openmm.app import *\n",
    "from openmm import *\n",
    "from openmm.unit import *\n",
    "\n",
    "pdb = PDBFile('ala_ala_ala.pdb')\n",
    "forcefield = ForceField('amber14-all.xml')\n",
    "system = forcefield.createSystem(pdb.topology, constraints=HBonds)\n"
   ]
  },
  {
   "cell_type": "code",
   "execution_count": null,
   "id": "73104e23-95c9-462a-ae03-a7ae096d58e2",
   "metadata": {},
   "outputs": [],
   "source": []
  }
 ],
 "metadata": {
  "kernelspec": {
   "display_name": "Python 3 (ipykernel)",
   "language": "python",
   "name": "python3"
  },
  "language_info": {
   "codemirror_mode": {
    "name": "ipython",
    "version": 3
   },
   "file_extension": ".py",
   "mimetype": "text/x-python",
   "name": "python",
   "nbconvert_exporter": "python",
   "pygments_lexer": "ipython3",
   "version": "3.11.8"
  }
 },
 "nbformat": 4,
 "nbformat_minor": 5
}
